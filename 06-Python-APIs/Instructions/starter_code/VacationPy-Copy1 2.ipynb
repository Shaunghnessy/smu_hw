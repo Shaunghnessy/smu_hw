{
 "cells": [
  {
   "cell_type": "markdown",
   "metadata": {},
   "source": [
    "# VacationPy\n",
    "----\n",
    "\n",
    "#### Note\n",
    "* Keep an eye on your API usage. Use https://developers.google.com/maps/reporting/gmp-reporting as reference for how to monitor your usage and billing.\n",
    "\n",
    "* Instructions have been included for each segment. You do not have to follow them exactly, but they are included to help you think through the steps."
   ]
  },
  {
   "cell_type": "code",
   "execution_count": 1,
   "metadata": {},
   "outputs": [],
   "source": [
    "# Dependencies and Setup\n",
    "import matplotlib.pyplot as plt\n",
    "import pandas as pd\n",
    "import numpy as np\n",
    "import requests\n",
    "import gmaps\n",
    "import os\n",
    "\n",
    "# Import API key\n",
    "from api_keys import g_key"
   ]
  },
  {
   "cell_type": "markdown",
   "metadata": {},
   "source": [
    "### Store Part I results into DataFrame\n",
    "* Load the csv exported in Part I to a DataFrame"
   ]
  },
  {
   "cell_type": "code",
   "execution_count": 2,
   "metadata": {},
   "outputs": [
    {
     "data": {
      "text/html": [
       "<div>\n",
       "<style scoped>\n",
       "    .dataframe tbody tr th:only-of-type {\n",
       "        vertical-align: middle;\n",
       "    }\n",
       "\n",
       "    .dataframe tbody tr th {\n",
       "        vertical-align: top;\n",
       "    }\n",
       "\n",
       "    .dataframe thead th {\n",
       "        text-align: right;\n",
       "    }\n",
       "</style>\n",
       "<table border=\"1\" class=\"dataframe\">\n",
       "  <thead>\n",
       "    <tr style=\"text-align: right;\">\n",
       "      <th></th>\n",
       "      <th>City</th>\n",
       "      <th>Lat</th>\n",
       "      <th>Lng</th>\n",
       "      <th>Max Temp</th>\n",
       "      <th>Humidity</th>\n",
       "      <th>Cloudiness</th>\n",
       "      <th>Wind Speed</th>\n",
       "      <th>Country</th>\n",
       "      <th>Date</th>\n",
       "    </tr>\n",
       "  </thead>\n",
       "  <tbody>\n",
       "    <tr>\n",
       "      <th>0</th>\n",
       "      <td>barroso</td>\n",
       "      <td>-21.1869</td>\n",
       "      <td>-43.9758</td>\n",
       "      <td>11.71</td>\n",
       "      <td>95</td>\n",
       "      <td>24</td>\n",
       "      <td>3.30</td>\n",
       "      <td>BR</td>\n",
       "      <td>1667703670</td>\n",
       "    </tr>\n",
       "    <tr>\n",
       "      <th>1</th>\n",
       "      <td>aizpute</td>\n",
       "      <td>56.7167</td>\n",
       "      <td>21.6000</td>\n",
       "      <td>4.57</td>\n",
       "      <td>97</td>\n",
       "      <td>53</td>\n",
       "      <td>2.70</td>\n",
       "      <td>LV</td>\n",
       "      <td>1667703672</td>\n",
       "    </tr>\n",
       "    <tr>\n",
       "      <th>2</th>\n",
       "      <td>mataura</td>\n",
       "      <td>-46.1927</td>\n",
       "      <td>168.8643</td>\n",
       "      <td>16.14</td>\n",
       "      <td>43</td>\n",
       "      <td>18</td>\n",
       "      <td>2.96</td>\n",
       "      <td>NZ</td>\n",
       "      <td>1667703673</td>\n",
       "    </tr>\n",
       "    <tr>\n",
       "      <th>3</th>\n",
       "      <td>kavaratti</td>\n",
       "      <td>10.5669</td>\n",
       "      <td>72.6420</td>\n",
       "      <td>27.11</td>\n",
       "      <td>78</td>\n",
       "      <td>55</td>\n",
       "      <td>3.63</td>\n",
       "      <td>IN</td>\n",
       "      <td>1667703430</td>\n",
       "    </tr>\n",
       "    <tr>\n",
       "      <th>4</th>\n",
       "      <td>hambantota</td>\n",
       "      <td>6.1241</td>\n",
       "      <td>81.1185</td>\n",
       "      <td>25.19</td>\n",
       "      <td>100</td>\n",
       "      <td>40</td>\n",
       "      <td>1.54</td>\n",
       "      <td>LK</td>\n",
       "      <td>1667703675</td>\n",
       "    </tr>\n",
       "  </tbody>\n",
       "</table>\n",
       "</div>"
      ],
      "text/plain": [
       "         City      Lat       Lng  Max Temp  Humidity  Cloudiness  Wind Speed  \\\n",
       "0     barroso -21.1869  -43.9758     11.71        95          24        3.30   \n",
       "1     aizpute  56.7167   21.6000      4.57        97          53        2.70   \n",
       "2     mataura -46.1927  168.8643     16.14        43          18        2.96   \n",
       "3   kavaratti  10.5669   72.6420     27.11        78          55        3.63   \n",
       "4  hambantota   6.1241   81.1185     25.19       100          40        1.54   \n",
       "\n",
       "  Country        Date  \n",
       "0      BR  1667703670  \n",
       "1      LV  1667703672  \n",
       "2      NZ  1667703673  \n",
       "3      IN  1667703430  \n",
       "4      LK  1667703675  "
      ]
     },
     "execution_count": 2,
     "metadata": {},
     "output_type": "execute_result"
    }
   ],
   "source": [
    "vacation_df = pd.read_csv(\"../starter_code/WeatherPy.csv\")\n",
    "vacation_df.head()"
   ]
  },
  {
   "cell_type": "code",
   "execution_count": 3,
   "metadata": {},
   "outputs": [
    {
     "name": "stdout",
     "output_type": "stream",
     "text": [
      "<class 'pandas.core.frame.DataFrame'>\n",
      "RangeIndex: 583 entries, 0 to 582\n",
      "Data columns (total 9 columns):\n",
      " #   Column      Non-Null Count  Dtype  \n",
      "---  ------      --------------  -----  \n",
      " 0   City        583 non-null    object \n",
      " 1   Lat         583 non-null    float64\n",
      " 2   Lng         583 non-null    float64\n",
      " 3   Max Temp    583 non-null    float64\n",
      " 4   Humidity    583 non-null    int64  \n",
      " 5   Cloudiness  583 non-null    int64  \n",
      " 6   Wind Speed  583 non-null    float64\n",
      " 7   Country     583 non-null    object \n",
      " 8   Date        583 non-null    int64  \n",
      "dtypes: float64(4), int64(3), object(2)\n",
      "memory usage: 41.1+ KB\n"
     ]
    }
   ],
   "source": [
    "df_sub = vacation_df.dropna().reset_index(drop=True)\n",
    "df_sub.info()"
   ]
  },
  {
   "cell_type": "markdown",
   "metadata": {},
   "source": [
    "### Humidity Heatmap\n",
    "* Configure gmaps.\n",
    "* Use the Lat and Lng as locations and Humidity as the weight.\n",
    "* Add Heatmap layer to map."
   ]
  },
  {
   "cell_type": "code",
   "execution_count": 4,
   "metadata": {},
   "outputs": [
    {
     "data": {
      "application/vnd.jupyter.widget-view+json": {
       "model_id": "6de4946e884049449b0d8f298bee551b",
       "version_major": 2,
       "version_minor": 0
      },
      "text/plain": [
       "Figure(layout=FigureLayout(height='420px'))"
      ]
     },
     "metadata": {},
     "output_type": "display_data"
    }
   ],
   "source": [
    "# Configure gmaps with API key.\n",
    "gmaps.configure(api_key=g_key)\n",
    "\n",
    "# Convert Humidity to float and store\n",
    "# Also, handle NaN values\n",
    "vacation_df = vacation_df.dropna()\n",
    "humidity = vacation_df[\"Humidity\"].astype(float)\n",
    "\n",
    "# Store 'Latitude' and 'Longitude' into  locations. \n",
    "locations = vacation_df[[\"Lat\", \"Lng\"]].astype(float)\n",
    "\n",
    "# Create a humidity Heatmap layer\n",
    "fig = gmaps.figure()\n",
    "\n",
    "heat_layer = gmaps.heatmap_layer(locations, weights=humidity, \n",
    "                                 dissipating=False, max_intensity=max(vacation_df[\"Humidity\"]),\n",
    "                                 point_radius = 2)\n",
    "\n",
    "fig.add_layer(heat_layer)\n",
    "\n",
    "fig"
   ]
  },
  {
   "cell_type": "code",
   "execution_count": null,
   "metadata": {},
   "outputs": [],
   "source": []
  },
  {
   "cell_type": "markdown",
   "metadata": {},
   "source": [
    "### Create new DataFrame fitting weather criteria\n",
    "* Narrow down the cities to fit weather conditions.\n",
    "* Drop any rows will null values."
   ]
  },
  {
   "cell_type": "code",
   "execution_count": 5,
   "metadata": {},
   "outputs": [
    {
     "data": {
      "text/html": [
       "<div>\n",
       "<style scoped>\n",
       "    .dataframe tbody tr th:only-of-type {\n",
       "        vertical-align: middle;\n",
       "    }\n",
       "\n",
       "    .dataframe tbody tr th {\n",
       "        vertical-align: top;\n",
       "    }\n",
       "\n",
       "    .dataframe thead th {\n",
       "        text-align: right;\n",
       "    }\n",
       "</style>\n",
       "<table border=\"1\" class=\"dataframe\">\n",
       "  <thead>\n",
       "    <tr style=\"text-align: right;\">\n",
       "      <th></th>\n",
       "      <th>City</th>\n",
       "      <th>Lat</th>\n",
       "      <th>Lng</th>\n",
       "      <th>Max Temp</th>\n",
       "      <th>Humidity</th>\n",
       "      <th>Cloudiness</th>\n",
       "      <th>Wind Speed</th>\n",
       "      <th>Country</th>\n",
       "      <th>Date</th>\n",
       "    </tr>\n",
       "  </thead>\n",
       "  <tbody>\n",
       "    <tr>\n",
       "      <th>24</th>\n",
       "      <td>tura</td>\n",
       "      <td>25.5198</td>\n",
       "      <td>90.2201</td>\n",
       "      <td>23.92</td>\n",
       "      <td>72</td>\n",
       "      <td>0</td>\n",
       "      <td>0.66</td>\n",
       "      <td>IN</td>\n",
       "      <td>1667703626</td>\n",
       "    </tr>\n",
       "    <tr>\n",
       "      <th>32</th>\n",
       "      <td>gabriel leyva solano</td>\n",
       "      <td>25.6667</td>\n",
       "      <td>-108.6417</td>\n",
       "      <td>21.12</td>\n",
       "      <td>46</td>\n",
       "      <td>0</td>\n",
       "      <td>3.39</td>\n",
       "      <td>MX</td>\n",
       "      <td>1667703692</td>\n",
       "    </tr>\n",
       "    <tr>\n",
       "      <th>54</th>\n",
       "      <td>doha</td>\n",
       "      <td>25.2867</td>\n",
       "      <td>51.5333</td>\n",
       "      <td>25.99</td>\n",
       "      <td>53</td>\n",
       "      <td>0</td>\n",
       "      <td>3.09</td>\n",
       "      <td>QA</td>\n",
       "      <td>1667703710</td>\n",
       "    </tr>\n",
       "    <tr>\n",
       "      <th>58</th>\n",
       "      <td>brandon</td>\n",
       "      <td>27.9378</td>\n",
       "      <td>-82.2859</td>\n",
       "      <td>25.95</td>\n",
       "      <td>88</td>\n",
       "      <td>0</td>\n",
       "      <td>1.79</td>\n",
       "      <td>US</td>\n",
       "      <td>1667703713</td>\n",
       "    </tr>\n",
       "    <tr>\n",
       "      <th>62</th>\n",
       "      <td>cabo san lucas</td>\n",
       "      <td>22.8909</td>\n",
       "      <td>-109.9124</td>\n",
       "      <td>24.17</td>\n",
       "      <td>63</td>\n",
       "      <td>0</td>\n",
       "      <td>1.34</td>\n",
       "      <td>MX</td>\n",
       "      <td>1667703591</td>\n",
       "    </tr>\n",
       "  </tbody>\n",
       "</table>\n",
       "</div>"
      ],
      "text/plain": [
       "                    City      Lat       Lng  Max Temp  Humidity  Cloudiness  \\\n",
       "24                  tura  25.5198   90.2201     23.92        72           0   \n",
       "32  gabriel leyva solano  25.6667 -108.6417     21.12        46           0   \n",
       "54                  doha  25.2867   51.5333     25.99        53           0   \n",
       "58               brandon  27.9378  -82.2859     25.95        88           0   \n",
       "62        cabo san lucas  22.8909 -109.9124     24.17        63           0   \n",
       "\n",
       "    Wind Speed Country        Date  \n",
       "24        0.66      IN  1667703626  \n",
       "32        3.39      MX  1667703692  \n",
       "54        3.09      QA  1667703710  \n",
       "58        1.79      US  1667703713  \n",
       "62        1.34      MX  1667703591  "
      ]
     },
     "execution_count": 5,
     "metadata": {},
     "output_type": "execute_result"
    }
   ],
   "source": [
    "narrowed_city_df = df_sub.loc[(df_sub[\"Max Temp\"] > 21) & (df_sub[\"Max Temp\"] < 26) \n",
    "                              & (df_sub[\"Cloudiness\"] == 0), :]\n",
    "narrowed_city_df = narrowed_city_df.dropna(how='any')\n",
    "# narrowed_city_df.reset_index(inplace=True)\n",
    "# del narrowed_city_df['index']\n",
    "narrowed_city_df.head()"
   ]
  },
  {
   "cell_type": "markdown",
   "metadata": {},
   "source": [
    "### Hotel Map\n",
    "* Store into variable named `hotel_df`.\n",
    "* Add a \"Hotel Name\" column to the DataFrame.\n",
    "* Set parameters to search for hotels with 5000 meters.\n",
    "* Hit the Google Places API for each city's coordinates.\n",
    "* Store the first Hotel result into the DataFrame.\n",
    "* Plot markers on top of the heatmap."
   ]
  },
  {
   "cell_type": "code",
   "execution_count": 17,
   "metadata": {},
   "outputs": [
    {
     "name": "stdout",
     "output_type": "stream",
     "text": [
      "Maui Seaside Hotel\n",
      "100 West Kaahumanu Avenue, Kahului\n",
      "3.8\n"
     ]
    }
   ],
   "source": [
    "# geocoordinates\n",
    "hotel_coordinates = f\"{20.8947}, {-156.4700}\"\n",
    "hotel_search = \"\"\n",
    "\n",
    "hotel_radius = 5000\n",
    "hotel_type = \"lodging\"\n",
    "\n",
    "# Store into variable named hotel_df:\n",
    "hotel_df = vacation_df\n",
    "\n",
    "# Add a \"Hotel Name\" column to the DataFrame: (setting new columns to hold values)\n",
    "hotel_df[\"Hotel Name\"] = \"\"\n",
    "\n",
    "# Set parameters to search for hotels with 5000 meters:\n",
    "\n",
    "# Set params:\n",
    "params = {\n",
    "    \"radius\": hotel_radius,\n",
    "    \"types\": hotel_type,\n",
    "    \"key\": g_key\n",
    "}\n",
    "\n",
    "\n",
    "params[\"location\"] = hotel_coordinates\n",
    "\n",
    "# base url\n",
    "base_url = \"https://maps.googleapis.com/maps/api/place/nearbysearch/json\"\n",
    "\n",
    "# run a request using our params dictionary\n",
    "response = requests.get(base_url, params=params)\n",
    "\n",
    "hotel_data = response.json()\n",
    "\n",
    "print(hotel_data[\"results\"][0][\"name\"])\n",
    "print(hotel_data[\"results\"][0][\"vicinity\"])\n",
    "print(hotel_data[\"results\"][0][\"rating\"])"
   ]
  },
  {
   "cell_type": "code",
   "execution_count": null,
   "metadata": {},
   "outputs": [],
   "source": [
    "# # Loop through to identify hotels:\n",
    "# for index, row in hotel_df.iterrows():\n",
    "    \n",
    "#     base_url = \"https://maps.googleapis.com/maps/api/place/nearbysearch/json\"\n",
    "    \n",
    "#     lat = row[\"Lat\"]\n",
    "#     lng = row[\"Lng\"]\n",
    "    \n",
    "#     params['location'] = f'{lat},{lng}'\n",
    "    \n",
    "#     hotel_data = requests.get(base_url, params=params).json()\n",
    "    \n",
    "#     try:\n",
    "        \n",
    "#         hotel_df.loc[index, \"Hotel Name\"] = hotel_data['results'][0]['name']\n",
    "        \n",
    "#     except: \n",
    "#         print('Issues with finding a hotel at', row['City'])\n",
    "#         hotel_df.loc[index, \"Hotel Name\"] = \"NA\"\n",
    "    \n",
    "# hotel_df"
   ]
  },
  {
   "cell_type": "code",
   "execution_count": null,
   "metadata": {},
   "outputs": [],
   "source": [
    "# NOTE: Do not change any of the code in this cell\n",
    "\n",
    "# Using the template add the hotel marks to the heatmap\n",
    "info_box_template = \"\"\"\n",
    "<dl>\n",
    "<dt>Name</dt><dd>{Hotel Name}</dd>\n",
    "<dt>City</dt><dd>{City}</dd>\n",
    "<dt>Country</dt><dd>{Country}</dd>\n",
    "</dl>\n",
    "\"\"\"\n",
    "# Store the DataFrame Row\n",
    "# NOTE: be sure to update with your DataFrame name\n",
    "hotel_info = [info_box_template.format(**row) for index, row in hotel_df.iterrows()]\n",
    "locations = hotel_df[[\"Lat\", \"Lng\"]]"
   ]
  },
  {
   "cell_type": "code",
   "execution_count": null,
   "metadata": {},
   "outputs": [],
   "source": [
    "# Add marker layer ontop of heat map\n",
    "\n",
    "\n",
    "# Display figure\n"
   ]
  },
  {
   "cell_type": "code",
   "execution_count": null,
   "metadata": {},
   "outputs": [],
   "source": []
  }
 ],
 "metadata": {
  "kernelspec": {
   "display_name": "Python 3 (ipykernel)",
   "language": "python",
   "name": "python3"
  },
  "language_info": {
   "codemirror_mode": {
    "name": "ipython",
    "version": 3
   },
   "file_extension": ".py",
   "mimetype": "text/x-python",
   "name": "python",
   "nbconvert_exporter": "python",
   "pygments_lexer": "ipython3",
   "version": "3.9.12"
  },
  "latex_envs": {
   "LaTeX_envs_menu_present": true,
   "autoclose": false,
   "autocomplete": true,
   "bibliofile": "biblio.bib",
   "cite_by": "apalike",
   "current_citInitial": 1,
   "eqLabelWithNumbers": true,
   "eqNumInitial": 1,
   "hotkeys": {
    "equation": "Ctrl-E",
    "itemize": "Ctrl-I"
   },
   "labels_anchors": false,
   "latex_user_defs": false,
   "report_style_numbering": false,
   "user_envs_cfg": false
  }
 },
 "nbformat": 4,
 "nbformat_minor": 4
}
